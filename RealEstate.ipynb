{
 "cells": [
  {
   "cell_type": "markdown",
   "id": "a108af04",
   "metadata": {},
   "source": [
    "This is a starter notebook for the project, you'll have to import the libraries you'll need, you can find a list of the ones available in this workspace in the requirements.txt file in this workspace. "
   ]
  },
  {
   "cell_type": "markdown",
   "id": "fcbc77cf-1722-40dc-93cc-e61ba0222c69",
   "metadata": {},
   "source": [
    "# Step 1: Setting Up the Python Application"
   ]
  },
  {
   "cell_type": "code",
   "execution_count": null,
   "id": "05bdb21a-776a-4bec-9427-0404f41e0715",
   "metadata": {},
   "outputs": [],
   "source": [
    "!pip install pandas\n",
    "!pip install chromadb\n",
    "!pip install langchain\n",
    "!pip install numpy\n",
    "!pip install -U langchain-openai\n",
    "!pip install pydantic\n",
    "!pip install shutil\n",
    "!pip install openai==0.28"
   ]
  },
  {
   "cell_type": "code",
   "execution_count": 1,
   "id": "6554fd4c",
   "metadata": {},
   "outputs": [],
   "source": [
    "import os\n",
    "import pandas as pd\n",
    "import shutil\n",
    "from dataclasses import dataclass\n",
    "\n",
    "from langchain.llms import OpenAI\n",
    "from langchain.embeddings import OpenAIEmbeddings\n",
    "from langchain.evaluation import load_evaluator\n",
    "from langchain.text_splitter import RecursiveCharacterTextSplitter\n",
    "from langchain.schema import Document\n",
    "from langchain.vectorstores.chroma import Chroma\n",
    "from langchain.chat_models import ChatOpenAI\n",
    "from langchain.prompts import ChatPromptTemplate\n",
    "\n",
    "from typing import List\n",
    "from langchain.output_parsers import PydanticOutputParser\n",
    "from langchain_core.pydantic_v1 import BaseModel, Field, NonNegativeInt\n",
    "from langchain.prompts import PromptTemplate\n",
    "from fastapi.encoders import jsonable_encoder"
   ]
  },
  {
   "cell_type": "markdown",
   "id": "7401b9d3-0c0a-43a7-b29d-68f59f8b6d19",
   "metadata": {},
   "source": [
    "# Step 2: Generating Real Estate Listings"
   ]
  },
  {
   "cell_type": "markdown",
   "id": "3787e85f-92c6-4858-931d-67a2a8899faf",
   "metadata": {},
   "source": [
    "## Define OpenAI model and API Key"
   ]
  },
  {
   "cell_type": "code",
   "execution_count": 2,
   "id": "64401832-feb4-4d89-b404-d27b90bcd188",
   "metadata": {},
   "outputs": [],
   "source": [
    "# Environment variables\n",
    "OPENAI_API_KEY = 'voc-xxx'\n",
    "MODEL_NAME = 'gpt-3.5-turbo'"
   ]
  },
  {
   "cell_type": "markdown",
   "id": "6afc666e-0ead-4ad6-938d-47c1d309ce73",
   "metadata": {},
   "source": [
    "## Load LLM"
   ]
  },
  {
   "cell_type": "code",
   "execution_count": null,
   "id": "16d14656-fc0c-431e-96d9-56498edd2ca5",
   "metadata": {},
   "outputs": [],
   "source": [
    "# Loading the Model\n",
    "llm = OpenAI(model_name=MODEL_NAME, temperature=0, api_key=OPENAI_API_KEY)\n",
    "\n",
    "INSTRUCTION = \"Generate a CSV file with at least 10 real estate listings.\"\n",
    "SAMPLE_LISTING = \\\n",
    "\"\"\"\n",
    "Neighborhood: Green Oaks\n",
    "Price: $800,000\n",
    "Bedrooms: 3\n",
    "Bathrooms: 2\n",
    "House Size: 2,000 sqft\n",
    "\n",
    "Description: Welcome to this eco-friendly oasis nestled in the heart of Green Oaks. This charming 3-bedroom, 2-bathroom home boasts energy-efficient features such as solar panels and a well-insulated structure. Natural light floods the living spaces, highlighting the beautiful hardwood floors and eco-conscious finishes. The open-concept kitchen and dining area lead to a spacious backyard with a vegetable garden, perfect for the eco-conscious family. Embrace sustainable living without compromising on style in this Green Oaks gem.\n",
    "\n",
    "Neighborhood Description: Green Oaks is a close-knit, environmentally-conscious community with access to organic grocery stores, community gardens, and bike paths. Take a stroll through the nearby Green Oaks Park or grab a cup of coffee at the cozy Green Bean Cafe. With easy access to public transportation and bike lanes, commuting is a breeze.\n",
    "\"\"\""
   ]
  },
  {
   "cell_type": "code",
   "execution_count": null,
   "id": "f33751a3-81d9-47e1-8a77-c0d02f53bdb7",
   "metadata": {},
   "outputs": [],
   "source": [
    "# Initiate the model class\n",
    "class RealEstateListing(BaseModel):\n",
    "    \"\"\"\n",
    "    A real estate listing.\n",
    "    \n",
    "    Attributes:\n",
    "    - neighborhood: str\n",
    "    - price: NonNegativeInt\n",
    "    - bedrooms: NonNegativeInt\n",
    "    - bathrooms: NonNegativeInt\n",
    "    - house_size: NonNegativeInt\n",
    "    - description: str\n",
    "    - neighborhood_description: str\n",
    "    \"\"\"\n",
    "    neighborhood: str = Field(description=\"The neighborhood where the property is located\")\n",
    "    price: NonNegativeInt = Field(description=\"The price of the property in USD\")\n",
    "    bedrooms: NonNegativeInt = Field(description=\"The number of bedrooms in the property\")\n",
    "    bathrooms: NonNegativeInt = Field(description=\"The number of bathrooms in the property\")\n",
    "    house_size: NonNegativeInt = Field(description=\"The size of the house in square feet\")\n",
    "    description: str = Field(description=\"A description of the property\")\n",
    "    neighborhood_description: str = Field(description=\"A description of the neighborhood.\")  \n",
    "\n",
    "class ListingCollection(BaseModel):\n",
    "    \"\"\"\n",
    "    A collection of real estate listings.\n",
    "    \n",
    "    Attributes:\n",
    "    - listings: List[RealEstateListing]\n",
    "    \"\"\"\n",
    "    listings: List[RealEstateListing] = Field(description=\"A list of real estate listings\")"
   ]
  },
  {
   "cell_type": "code",
   "execution_count": null,
   "id": "b0a20907-7995-4d2f-be9d-46e4d5f3a11c",
   "metadata": {},
   "outputs": [],
   "source": [
    "# Intiate the parser\n",
    "# Parse the collection\n",
    "parser = PydanticOutputParser(pydantic_object=ListingCollection)"
   ]
  },
  {
   "cell_type": "code",
   "execution_count": null,
   "id": "a83d02b6-e38b-44d2-8f3d-7d644dca175b",
   "metadata": {},
   "outputs": [],
   "source": [
    "# Output the report\n",
    "prompt = PromptTemplate(\n",
    "    template=\"{instruction}\\n{sample}\\n{format_instructions}\\n\",\n",
    "    input_variables=[\"instruction\", \"sample\"],\n",
    "    partial_variables={\"format_instructions\": parser.get_format_instructions},\n",
    ")\n",
    "\n",
    "query = prompt.format(\n",
    "    instruction=INSTRUCTION,\n",
    "    sample=SAMPLE_LISTING,\n",
    ")\n",
    "print(query)"
   ]
  },
  {
   "cell_type": "code",
   "execution_count": null,
   "id": "9d4ff6a1-bcbb-44b8-aa1a-0a65d9fdb89c",
   "metadata": {},
   "outputs": [],
   "source": [
    "# Output the response\n",
    "response = llm(query)"
   ]
  },
  {
   "cell_type": "code",
   "execution_count": null,
   "id": "f1413fcf-2869-4438-8eaf-0cba63d9d00d",
   "metadata": {},
   "outputs": [],
   "source": [
    "# Parse the output and stich to the panda df\n",
    "result = parser.parse(response)\n",
    "df = pd.DataFrame(jsonable_encoder(result.listings))\n",
    "df.head()"
   ]
  },
  {
   "cell_type": "code",
   "execution_count": null,
   "id": "1cb3bcba-c899-418e-8fae-439621351418",
   "metadata": {},
   "outputs": [],
   "source": [
    "# Output to the CSV file\n",
    "df.to_csv('real_estate_listings.csv', index_label = 'id')"
   ]
  },
  {
   "cell_type": "markdown",
   "id": "11321f66-9e60-4121-92e4-56ae7b6062a3",
   "metadata": {},
   "source": [
    "# Step 3: Storing Listings in a Vector Database\n",
    "\n",
    "* Vector Database Setup: Initialize and configure ChromaDB or a similar vector database to store real estate listings.\n",
    "\n",
    "* Generating and Storing Embeddings: Convert the LLM-generated listings into suitable embeddings that capture the semantic content of each listing, and store these embeddings in the vector database."
   ]
  },
  {
   "cell_type": "code",
   "execution_count": 3,
   "id": "d06fd3ee-6b72-43e1-bdb4-c3af936ae4e2",
   "metadata": {},
   "outputs": [
    {
     "name": "stderr",
     "output_type": "stream",
     "text": [
      "C:\\Users\\ac88385\\AppData\\Local\\anaconda3\\Lib\\site-packages\\langchain_core\\_api\\deprecation.py:117: LangChainDeprecationWarning: The class `langchain_community.embeddings.openai.OpenAIEmbeddings` was deprecated in langchain-community 0.0.9 and will be removed in 0.2.0. An updated version of the class exists in the langchain-openai package and should be used instead. To use it run `pip install -U langchain-openai` and import as `from langchain_openai import OpenAIEmbeddings`.\n",
      "  warn_deprecated(\n"
     ]
    },
    {
     "name": "stdout",
     "output_type": "stream",
     "text": [
      "Split 10 documents into 23 chunks.\n",
      "Situated in the historic neighborhood of Georgetown, this 4-bedroom, 3-bathroom townhouse offers a blend of modern amenities and classic charm. The open-concept living and dining area features exposed brick walls, hardwood floors, and a cozy fireplace. The gourmet kitchen is equipped with stainless\n",
      "{'id': '4', 'start_index': 0}\n",
      "Saved 23 chunks to chroma.\n"
     ]
    }
   ],
   "source": [
    "# Initialize and configure ChromaDB or a similar vector database to store real estate listings\n",
    "os.environ[\"OPENAI_API_KEY\"] = OPENAI_API_KEY\n",
    "CHROMA_PATH = \"chroma\"\n",
    "CSV_PATH = \"real_estate_listings.csv\" \n",
    "\n",
    "embedding_function = OpenAIEmbeddings()\n",
    "\n",
    "df = pd.read_csv(CSV_PATH)\n",
    "documents = []\n",
    "for index, row in df.iterrows():\n",
    "    documents.append(Document(page_content=row['description'], metadata={'id': str(index)}))\n",
    "\n",
    "\n",
    "# Split Text\n",
    "text_splitter = RecursiveCharacterTextSplitter(\n",
    "    chunk_size=300,\n",
    "    chunk_overlap=100,\n",
    "    length_function=len,\n",
    "    add_start_index=True,\n",
    ")\n",
    "chunks = text_splitter.split_documents(documents)\n",
    "print(f\"Split {len(documents)} documents into {len(chunks)} chunks.\")\n",
    "\n",
    "if chunks:\n",
    "    document = chunks[10]\n",
    "    print(document.page_content)\n",
    "    print(document.metadata)\n",
    "\n",
    "# Save to Chroma\n",
    "if os.path.exists(CHROMA_PATH):\n",
    "    shutil.rmtree(CHROMA_PATH)\n",
    "\n",
    "db = Chroma.from_documents(\n",
    "    chunks, OpenAIEmbeddings(), persist_directory=CHROMA_PATH\n",
    ")\n",
    "db.persist()\n",
    "print(f\"Saved {len(chunks)} chunks to {CHROMA_PATH}.\")"
   ]
  },
  {
   "cell_type": "markdown",
   "id": "5abce081-cd4b-4f2d-b440-5fbb5b97bbcf",
   "metadata": {},
   "source": [
    "# Step 4: Building the User Preference Interface\n",
    " * Collect buyer preferences, such as the number of bedrooms, bathrooms, location, and other specific requirements from a set of questions or telling the buyer to enter their preferences in natural language. You can hard-code the buyer preferences in questions and answers, or collect them interactively however you'd like, example:"
   ]
  },
  {
   "cell_type": "raw",
   "id": "3c4b6a38-04fe-4978-be46-863e9f2c8b1f",
   "metadata": {},
   "source": [
    "questions = [   \n",
    "                \"How big do you want your house to be?\" \n",
    "                \"What are 3 most important things for you in choosing this property?\", \n",
    "                \"Which amenities would you like?\", \n",
    "                \"Which transportation options are important to you?\",\n",
    "                \"How urban do you want your neighborhood to be?\",   \n",
    "            ]\n",
    "answers = [\n",
    "    \"A comfortable three-bedroom house with a spacious kitchen and a cozy living room.\",\n",
    "    \"A quiet neighborhood, good local schools, and convenient shopping options.\",\n",
    "    \"A backyard for gardening, a two-car garage, and a modern, energy-efficient heating system.\",\n",
    "    \"Easy access to a reliable bus line, proximity to a major highway, and bike-friendly roads.\",\n",
    "    \"A balance between suburban tranquility and access to urban amenities like restaurants and theaters.\""
   ]
  },
  {
   "cell_type": "markdown",
   "id": "ea2befb4-6416-492a-b3b0-2f7a0ce2556c",
   "metadata": {},
   "source": [
    "* Buyer Preference Parsing: Implement logic to interpret and structure these preferences for querying the vector database."
   ]
  },
  {
   "cell_type": "code",
   "execution_count": 41,
   "id": "a4392e8a-136a-4b52-8b39-5cbf50bbc0c6",
   "metadata": {},
   "outputs": [],
   "source": [
    "query_text = \"A comfortable three-bedroom house with a spacious kitchen and a cozy living room.\" "
   ]
  },
  {
   "cell_type": "code",
   "execution_count": 42,
   "id": "18400e18-0050-47e1-a10f-7b72787bd34c",
   "metadata": {},
   "outputs": [],
   "source": [
    "BASIC_PROMPT_TEMPLATE =\\\n",
    "\"\"\"\n",
    "Based on the following context:\n",
    "\n",
    "{context}\n",
    "\n",
    "---\n",
    "\n",
    "Answer the question : {question}\n",
    "\"\"\""
   ]
  },
  {
   "cell_type": "markdown",
   "id": "e5ebe87f-9255-45e0-8d30-650d4eb628cf",
   "metadata": {},
   "source": [
    "# Step 5: Searching Based on Preferences\n",
    "* Semantic Search Implementation: Use the structured buyer preferences to perform a semantic search on the vector database, retrieving listings that most closely match the user's requirements.\n",
    "* Listing Retrieval Logic: Fine-tune the retrieval algorithm to ensure that the most relevant listings are selected based on the semantic closeness to the buyer’s preferences."
   ]
  },
  {
   "cell_type": "code",
   "execution_count": 43,
   "id": "36613853-b515-4628-8a35-5897a4732b17",
   "metadata": {},
   "outputs": [],
   "source": [
    "def predict_response(query_text, PROMPT_TEMPLATE):\n",
    "    embedding_function = OpenAIEmbeddings()\n",
    "    db = Chroma(persist_directory=CHROMA_PATH, embedding_function=embedding_function)\n",
    "\n",
    "    # Search the DB.\n",
    "    results = db.similarity_search_with_relevance_scores(query_text, k=3)\n",
    "    if len(results) == 0 or results[0][1] < 0.7:\n",
    "        print(f\"Unable to find matching results.\")\n",
    "    else:\n",
    "        context_text = \"\\n\\n---\\n\\n\".join([doc.page_content for doc, _score in results])\n",
    "        prompt_template = ChatPromptTemplate.from_template(PROMPT_TEMPLATE)\n",
    "        prompt = prompt_template.format(context=context_text, question=query_text)\n",
    "        print(f\"Generated Prompt:\\n{prompt}\")\n",
    "        \n",
    "        model = ChatOpenAI()\n",
    "        response_text = model.predict(prompt)\n",
    "        sources = [doc.metadata.get(\"id\", None) for doc, _score in results]\n",
    "        formatted_response = f\"Response: {response_text}\\nSources: {sources}\"\n",
    "        print(formatted_response)"
   ]
  },
  {
   "cell_type": "code",
   "execution_count": 44,
   "id": "dbbc1534-505a-4aef-bb76-1ee4e6441692",
   "metadata": {},
   "outputs": [
    {
     "name": "stdout",
     "output_type": "stream",
     "text": [
      "Generated Prompt:\n",
      "Human: \n",
      "Based on the following context:\n",
      "\n",
      "The gourmet kitchen is equipped with top-of-the-line appliances and a center island for casual dining. The spacious backyard offers a peaceful retreat from city life, with a deck and garden perfect for outdoor entertaining.\n",
      "\n",
      "---\n",
      "\n",
      "Welcome to this elegant 3-bedroom, 2-bathroom apartment on the Upper West Side of Manhattan. The spacious living room features hardwood floors, high ceilings, and oversized windows with city views. The chef's kitchen is equipped with stainless steel appliances, granite countertops, and a breakfast\n",
      "\n",
      "---\n",
      "\n",
      "Situated in the historic neighborhood of Georgetown, this 4-bedroom, 3-bathroom townhouse offers a blend of modern amenities and classic charm. The open-concept living and dining area features exposed brick walls, hardwood floors, and a cozy fireplace. The gourmet kitchen is equipped with stainless\n",
      "\n",
      "---\n",
      "\n",
      "Answer the question : A comfortable three-bedroom house with a spacious kitchen and a cozy living room.\n",
      "\n",
      "Response: Based on the given context, it seems that the apartment on the Upper West Side of Manhattan would be a suitable option. The spacious living room with hardwood floors and city views, along with the chef's kitchen equipped with top-of-the-line appliances, would provide a comfortable living space.\n",
      "Sources: ['2', '6', '4']\n"
     ]
    }
   ],
   "source": [
    "predict_response(query_text, BASIC_PROMPT_TEMPLATE)"
   ]
  },
  {
   "cell_type": "markdown",
   "id": "d8f61dc9-d35c-490b-aa7d-933a8177ee3a",
   "metadata": {},
   "source": [
    "\n",
    "# Step 6: Personalizing Listing Descriptions\n",
    "\n",
    "* LLM Augmentation: For each retrieved listing, use the LLM to augment the description, tailoring it to resonate with the buyer’s specific preferences. This involves subtly emphasizing aspects of the property that align with what the buyer is looking for.\n",
    "* Maintaining Factual Integrity: Ensure that the augmentation process enhances the appeal of the listing without altering factual information."
   ]
  },
  {
   "cell_type": "code",
   "execution_count": 45,
   "id": "6b3db5fd-8d6e-431a-9131-5b92a556fb22",
   "metadata": {},
   "outputs": [],
   "source": [
    "AUGMENT_PROMPT_TEMPLATE =\\\n",
    "\"\"\"\n",
    "Based on the following context:\n",
    "\n",
    "{context}\n",
    "\n",
    "---\n",
    "\n",
    "craft a response that not only answers the question {question}, but also ensures that your explanation is distinct, captivating, and customized to align with the specified preferences. This involves subtly emphasizing aspects of the property that align with what the buyer is looking for.\n",
    "\"\"\""
   ]
  },
  {
   "cell_type": "code",
   "execution_count": 46,
   "id": "7191dbd0-2797-4285-be34-5d08b4179396",
   "metadata": {},
   "outputs": [
    {
     "name": "stdout",
     "output_type": "stream",
     "text": [
      "Generated Prompt:\n",
      "Human: \n",
      "Based on the following context:\n",
      "\n",
      "The gourmet kitchen is equipped with top-of-the-line appliances and a center island for casual dining. The spacious backyard offers a peaceful retreat from city life, with a deck and garden perfect for outdoor entertaining.\n",
      "\n",
      "---\n",
      "\n",
      "Welcome to this elegant 3-bedroom, 2-bathroom apartment on the Upper West Side of Manhattan. The spacious living room features hardwood floors, high ceilings, and oversized windows with city views. The chef's kitchen is equipped with stainless steel appliances, granite countertops, and a breakfast\n",
      "\n",
      "---\n",
      "\n",
      "Situated in the historic neighborhood of Georgetown, this 4-bedroom, 3-bathroom townhouse offers a blend of modern amenities and classic charm. The open-concept living and dining area features exposed brick walls, hardwood floors, and a cozy fireplace. The gourmet kitchen is equipped with stainless\n",
      "\n",
      "---\n",
      "\n",
      "craft a response that not only answers the question A comfortable three-bedroom house with a spacious kitchen and a cozy living room., but also ensures that your explanation is distinct, captivating, and customized to align with the specified preferences. This involves subtly emphasizing aspects of the property that align with what the buyer is looking for.\n",
      "\n",
      "Response: Welcome to the perfect oasis for those seeking a comfortable and luxurious living space. This charming three-bedroom house boasts a spacious kitchen equipped with top-of-the-line appliances, granite countertops, and a center island perfect for casual dining. The cozy living room features hardwood floors, high ceilings, and oversized windows that flood the space with natural light. With a deck and garden in the backyard, this home offers a peaceful retreat from city life, ideal for outdoor entertaining. Don't miss out on this exquisite blend of modern amenities and classic charm in a desirable location.\n",
      "Sources: ['2', '6', '4']\n"
     ]
    }
   ],
   "source": [
    "predict_response(query_text, AUGMENT_PROMPT_TEMPLATE)"
   ]
  }
 ],
 "metadata": {
  "kernelspec": {
   "display_name": "Python 3 (ipykernel)",
   "language": "python",
   "name": "python3"
  },
  "language_info": {
   "codemirror_mode": {
    "name": "ipython",
    "version": 3
   },
   "file_extension": ".py",
   "mimetype": "text/x-python",
   "name": "python",
   "nbconvert_exporter": "python",
   "pygments_lexer": "ipython3",
   "version": "3.11.7"
  }
 },
 "nbformat": 4,
 "nbformat_minor": 5
}
